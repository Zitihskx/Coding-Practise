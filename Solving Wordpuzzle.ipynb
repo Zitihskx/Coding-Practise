{
 "cells": [
  {
   "cell_type": "code",
   "execution_count": 9,
   "metadata": {},
   "outputs": [
    {
     "name": "stderr",
     "output_type": "stream",
     "text": [
      "[nltk_data] Downloading package words to /home/kshitiz/nltk_data...\n",
      "[nltk_data]   Package words is already up-to-date!\n"
     ]
    },
    {
     "name": "stdout",
     "output_type": "stream",
     "text": [
      "Imput any characterset to find possible words in subset\n",
      "<class 'str'>lhcabe\n",
      "lac\n",
      "lache\n",
      "lace\n",
      "lab\n",
      "lech\n",
      "lea\n",
      "leach\n",
      "hale\n",
      "haec\n",
      "heal\n",
      "cha\n",
      "chal\n",
      "chab\n",
      "che\n",
      "chela\n",
      "cal\n",
      "cab\n",
      "cable\n",
      "alb\n",
      "albe\n",
      "ale\n",
      "alec\n",
      "acle\n",
      "ach\n",
      "ache\n",
      "ace\n",
      "able\n",
      "blah\n",
      "blae\n",
      "bleach\n",
      "bal\n",
      "bale\n",
      "bah\n",
      "bac\n",
      "bach\n",
      "bache\n",
      "bachel\n",
      "bae\n",
      "bel\n",
      "belch\n",
      "bela\n",
      "belah\n",
      "beal\n",
      "beach\n",
      "elb\n",
      "each\n"
     ]
    }
   ],
   "source": [
    "import itertools\n",
    "import nltk\n",
    "nltk.download('words')\n",
    "from nltk.corpus import words\n",
    "\n",
    "def list_string(strn):\n",
    "  level=[]\n",
    "  def permute(prefix, suffix):\n",
    "    level.append(prefix)\n",
    "    if len(suffix)==0:\n",
    "       return\n",
    "    for i in range(len(suffix)):\n",
    "      permute(prefix + suffix[i], suffix[:i]+suffix[i+1:])\n",
    "  permute(\"\",strn)\n",
    "  return level\n",
    "\n",
    "print('Imput any characterset to find possible words in subset')\n",
    "InputChar=(input(str))\n",
    "value=list_string(InputChar.lower())\n",
    "\n",
    "for items in value:\n",
    "    if len(items)>2 and items in words.words():\n",
    "        print(items)\n",
    "\n",
    "    \n"
   ]
  },
  {
   "cell_type": "code",
   "execution_count": null,
   "metadata": {},
   "outputs": [],
   "source": [
    "\n"
   ]
  },
  {
   "cell_type": "code",
   "execution_count": null,
   "metadata": {},
   "outputs": [],
   "source": []
  }
 ],
 "metadata": {
  "kernelspec": {
   "display_name": "Python 3",
   "language": "python",
   "name": "python3"
  },
  "language_info": {
   "codemirror_mode": {
    "name": "ipython",
    "version": 3
   },
   "file_extension": ".py",
   "mimetype": "text/x-python",
   "name": "python",
   "nbconvert_exporter": "python",
   "pygments_lexer": "ipython3",
   "version": "3.8.10"
  }
 },
 "nbformat": 4,
 "nbformat_minor": 4
}
